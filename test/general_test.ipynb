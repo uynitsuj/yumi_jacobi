{
 "cells": [
  {
   "cell_type": "code",
   "execution_count": 1,
   "metadata": {},
   "outputs": [
    {
     "name": "stdout",
     "output_type": "stream",
     "text": [
      "Signal(hand_CmdGripper_L, 30)\n"
     ]
    }
   ],
   "source": [
    "from jacobi import Planner\n",
    "from jacobi.robots import ABBYuMiIRB14000 as Yumi\n",
    "from jacobi.drivers import ABBDriver\n",
    "from yumi_jacobi.yumi_ethernet_interface import YumiArm\n",
    "\n",
    "yumi = Yumi()\n",
    "yumi.set_speed(0.14)\n",
    "\n",
    "planner = Planner(yumi)\n",
    "\n",
    "# From a fresh robot start, need to run twice to upload T_ROB_R before T_ROB_L starts\n",
    "module = ABBDriver.RapidModule(unit='ROB_L')\n",
    "driver_left = ABBDriver(\n",
    "    planner, yumi.left,\n",
    "    host='192.168.125.1', port=6511,\n",
    "    module=module, version=ABBDriver.RobotWareVersion.RobotWare6,\n",
    ")\n",
    "\n",
    "module = ABBDriver.RapidModule(unit='ROB_R')\n",
    "driver_right = ABBDriver(\n",
    "    planner, yumi.right,\n",
    "    host='192.168.125.1', port=6512,\n",
    "    module=module, version=ABBDriver.RobotWareVersion.RobotWare6,\n",
    ")\n",
    "sig = driver_left.rws.get_signal(signal = 'hand_CmdGripper_L', network='192.168.125.40', device='Hand_L')\n",
    "print(sig)"
   ]
  },
  {
   "cell_type": "code",
   "execution_count": null,
   "metadata": {},
   "outputs": [],
   "source": [
    "class YuMiArm:\n"
   ]
  },
  {
   "cell_type": "code",
   "execution_count": 2,
   "metadata": {},
   "outputs": [
    {
     "name": "stdout",
     "output_type": "stream",
     "text": [
      "VAR string next_state := \"egm\";\n",
      "\n",
      "        VAR egmident egm_id;\n",
      "        VAR egmstate egm_state;\n",
      "        CONST egm_minmax egm_condition := [-0.03, 0.03];\n",
      "        \n",
      "\n",
      "PROC egm1()\n",
      "\n",
      "        EGMActJoint egm_id\n",
      "            \\J1:=egm_condition \\J2:=egm_condition \\J3:=egm_condition\n",
      "            \\J4:=egm_condition \\J5:=egm_condition \\J6:=egm_condition \\J7:=egm_condition\n",
      "            \\MaxSpeedDeviation:=1000.000000;\n",
      "        EGMRunJoint egm_id, EGM_STOP_HOLD, \\NoWaitCond \\J1 \\J2 \\J3 \\J4 \\J5 \\J6 \\J7 \\CondTime:=9e9;\n",
      "        WaitDI JacobiEgmStop, 1;\n",
      "        EGMStop egm_id, EGM_STOP_HOLD;\n",
      "\n",
      "    ERROR\n",
      "        IF ERRNO = ERR_UDPUC_COMM THEN\n",
      "            TPWrite \"[jacobi.driver] EGM communication timeout.\";\n",
      "            TRYNEXT;\n",
      "        ENDIF\n",
      "\tIF next_state = \"egm\" THEN\n",
      "\t\tnext_state := \"egm\";\n",
      "\tENDIF\n",
      "ENDPROC\n",
      "\n",
      "PROC onReset()\n",
      "\tTPWrite \"reset\";\n",
      "\tEGMStop egm_id, EGM_STOP_HOLD;\n",
      "ENDPROC\n",
      "\n",
      "PROC onRestart()\n",
      "\tTPWrite \"restart\";\n",
      "\tEGMStop egm_id, EGM_STOP_HOLD;\n",
      "ENDPROC\n",
      "\n",
      "PROC onStart()\n",
      "\tTPWrite \"start\";\n",
      "ENDPROC\n",
      "\n",
      "PROC onStop()\n",
      "\tTPWrite \"stop\";\n",
      "\tEGMStop egm_id, EGM_STOP_HOLD;\n",
      "ENDPROC\n",
      "\n",
      "\n",
      "PROC main()\n",
      "\n",
      "        EGMReset egm_id;\n",
      "        EGMGetId egm_id;\n",
      "\n",
      "        egm_state := EGMGetState(egm_id);\n",
      "        TPWrite \"EGM state: \"\\Num:=egm_state;\n",
      "\n",
      "        IF egm_state <= EGM_STATE_CONNECTED THEN\n",
      "            EGMSetupUC ROB_R, egm_id, \"default\", \"ROB_R\", \\Joint;\n",
      "        ENDIF\n",
      "        \n",
      "\tWHILE next_state <> \"exit\" DO\n",
      "\t\tTPWrite \"[jacobi.driver] New state=\" + next_state;\n",
      "\t\tCallByVar next_state, 1;\n",
      "\tENDWHILE\n",
      "ENDPROC\n",
      "\n"
     ]
    },
    {
     "ename": "JacobiError",
     "evalue": "\n[jacobi.exception.driver]\n\tRWS Error status 400 <?xml version=\"1.0\" encoding=\"UTF-8\"?><html xmlns=\"http://www.w3.org/1999/xhtml\"><head><title>rw</title><base href=\"http://192.168.125.1:80/rw/rapid/\"/></head><body><div class=\"status\"><span class=\"code\">-1073442803</span></div></body></html>.\n",
     "output_type": "error",
     "traceback": [
      "\u001b[0;31m---------------------------------------------------------------------------\u001b[0m",
      "\u001b[0;31mJacobiError\u001b[0m                               Traceback (most recent call last)",
      "Cell \u001b[0;32mIn[2], line 11\u001b[0m\n\u001b[1;32m      7\u001b[0m open_gripper_RAPID \u001b[38;5;241m=\u001b[39m \u001b[38;5;124m\"\u001b[39m\u001b[38;5;124mg_Init \u001b[39m\u001b[38;5;124m\\\u001b[39m\u001b[38;5;124mCalibrate, \u001b[39m\u001b[38;5;124m\\\u001b[39m\u001b[38;5;124mGrip\u001b[39m\u001b[38;5;124m\"\u001b[39m\n\u001b[1;32m      9\u001b[0m gripper_module \u001b[38;5;241m=\u001b[39m ABBDriver\u001b[38;5;241m.\u001b[39mRapidModule(open_gripper_RAPID)\n\u001b[0;32m---> 11\u001b[0m \u001b[43mdriver_left\u001b[49m\u001b[38;5;241;43m.\u001b[39;49m\u001b[43mrws\u001b[49m\u001b[38;5;241;43m.\u001b[39;49m\u001b[43mexecute\u001b[49m\u001b[43m(\u001b[49m\u001b[43mgripper_module\u001b[49m\u001b[43m)\u001b[49m\n",
      "\u001b[0;31mJacobiError\u001b[0m: \n[jacobi.exception.driver]\n\tRWS Error status 400 <?xml version=\"1.0\" encoding=\"UTF-8\"?><html xmlns=\"http://www.w3.org/1999/xhtml\"><head><title>rw</title><base href=\"http://192.168.125.1:80/rw/rapid/\"/></head><body><div class=\"status\"><span class=\"code\">-1073442803</span></div></body></html>.\n"
     ]
    }
   ],
   "source": [
    "driver_left.rws.set_signal(signal = 'hand_CmdGripper_L', value = '30', network='192.168.125.40', device='Hand_L')\n",
    "\n",
    "rapid_code = module.get_rapid_code()\n",
    "\n",
    "print(rapid_code)\n",
    "\n",
    "open_gripper_RAPID = \"g_Init \\Calibrate, \\Grip\"\n",
    "\n",
    "gripper_module = ABBDriver.RapidModule(open_gripper_RAPID)\n",
    "\n",
    "driver_left.rws.execute(gripper_module)\n"
   ]
  }
 ],
 "metadata": {
  "kernelspec": {
   "display_name": "lipnew",
   "language": "python",
   "name": "python3"
  },
  "language_info": {
   "codemirror_mode": {
    "name": "ipython",
    "version": 3
   },
   "file_extension": ".py",
   "mimetype": "text/x-python",
   "name": "python",
   "nbconvert_exporter": "python",
   "pygments_lexer": "ipython3",
   "version": "3.8.0"
  }
 },
 "nbformat": 4,
 "nbformat_minor": 2
}
