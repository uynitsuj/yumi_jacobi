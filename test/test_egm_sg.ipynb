{
 "cells": [
  {
   "cell_type": "code",
   "execution_count": 1,
   "metadata": {},
   "outputs": [],
   "source": [
    "from jacobi import Planner, Frame, CartesianWaypoint, LinearMotion\n",
    "from jacobi.robots import ABBYuMiIRB14000 as Yumi\n",
    "from jacobi.drivers import ABBDriver\n",
    "\n",
    "yumi = Yumi()\n",
    "yumi.set_speed(0.14)\n",
    "\n",
    "planner = Planner(yumi)\n",
    "\n",
    "# From a fresh robot start, need to run twice to upload T_ROB_R before T_ROB_L starts\n",
    "\n",
    "module = ABBDriver.RapidModule(unit='ROB_L')\n",
    "module.upload = False # TURN THIS TO FALSE OTHERWISE EDITED PENDANT MODULES GET OVERWRITTEN\n",
    "driver_left = ABBDriver(\n",
    "    planner, yumi.left,\n",
    "    host='192.168.125.1', port=6511,\n",
    "    module=module, version=ABBDriver.RobotWareVersion.RobotWare6,\n",
    ")\n",
    "\n",
    "module = ABBDriver.RapidModule(unit='ROB_R')\n",
    "module.upload = False # TURN THIS TO FALSE OTHERWISE EDITED PENDANT MODULES GET OVERWRITTEN\n",
    "driver_right = ABBDriver(\n",
    "    planner, yumi.right,\n",
    "    host='192.168.125.1', port=6512,\n",
    "    module=module, version=ABBDriver.RobotWareVersion.RobotWare6,\n",
    ")\n",
    "\n",
    "\n",
    "l_g_comm = ['192.168.125.40', 'Hand_L']\n",
    "r_g_comm = ['192.168.125.30', 'Hand_R']\n",
    "\n",
    "def get_signal(driver, comm, signal):\n",
    "    return driver.rws.get_signal(signal = signal, network = comm[0], device = comm[1])\n",
    "\n",
    "def set_signal(driver, comm, signal, value):\n",
    "    return driver.rws.set_signal(signal = signal, value = str(value), network = comm[0], device = comm[1])\n"
   ]
  },
  {
   "cell_type": "code",
   "execution_count": 2,
   "metadata": {},
   "outputs": [
    {
     "name": "stdout",
     "output_type": "stream",
     "text": [
      "Left current position [-0.9671500527847318, -0.7343817840285362, 0.7489273706913036, -0.11783803724095614, 1.3649358387445345, 1.4782524110210244, -1.5989094542101]\n",
      "Right current position [0.7399978581352953, -0.3190054195945965, -0.8768290109937217, -0.3091502921122174, -0.8658609152022848, 1.2794772630508184, -1.798314173462001]\n",
      "<jacobi.Frame with position=[0.5789, 0.2744, 0.4075], orientation=[0.0163, -3.0607, 1.8566]>\n",
      "<jacobi.Frame with position=[0.6075, -0.2171, 0.4156], orientation=[0.0206, -3.0378, 1.1277]>\n",
      "Signal(cmd_GripperState_L, 5)\n",
      "Signal(cmd_GripperPos_L, 0)\n",
      "\u001b[1;33m[jacobi.driver] Position deviation of current and desired state exceed safety threshold of 0.100000 [rad].\u001b[0m\n"
     ]
    },
    {
     "data": {
      "text/plain": [
       "[1] Finished successfully."
      ]
     },
     "execution_count": 2,
     "metadata": {},
     "output_type": "execute_result"
    }
   ],
   "source": [
    "import time\n",
    "\n",
    "print('Left current position', driver_left.current_joint_position)\n",
    "print('Right current position', driver_right.current_joint_position)\n",
    "\n",
    "# Move both arms one after the other\n",
    "home_left = [-0.967, -0.734, 0.748, -0.118, 1.365, 1.477, -1.6]\n",
    "home_right = [0.740, -0.319, -0.876, -0.310, -0.866, 1.276, -1.8]\n",
    "\n",
    "driver_left.move_to(home_left)\n",
    "driver_right.move_to(home_right)\n",
    "\n",
    "# Calculate tcp position in Task space\n",
    "print(yumi.left.calculate_tcp(home_left))\n",
    "print(yumi.right.calculate_tcp(home_right))\n",
    "\n",
    "# Move both arms synchronized\n",
    "trajectory = planner.plan(\n",
    "    start={\n",
    "        yumi.left: driver_left.current_joint_position,\n",
    "        yumi.right: driver_right.current_joint_position,\n",
    "    },\n",
    "    goal={\n",
    "        yumi.left: CartesianWaypoint(Frame(x=0.60, y=0.24, z=0.25, b=-3.1415, c=1.85)),\n",
    "        yumi.right: CartesianWaypoint(Frame(x=0.50, y=-0.14, z=0.25, b=-3.1415, c=1.12)),\n",
    "    },\n",
    ")\n",
    "\n",
    "result_left = driver_left.run_async(trajectory)\n",
    "result_right = driver_right.run_async(trajectory)\n",
    "await result_left\n",
    "await result_right\n",
    "\n",
    "# Linear motion of left arm\n",
    "motion = LinearMotion(\n",
    "    yumi.left,\n",
    "    driver_left.current_joint_position,\n",
    "    Frame(x=0.60, y=0.14, z=0.25, b=-3.1415, c=1.0),\n",
    ")\n",
    "motion.robot.set_speed(0.05)\n",
    "\n",
    "tl = planner.plan(motion)\n",
    "result_left = driver_left.run_async(tl)\n",
    "\n",
    "# And stop after a timeout because we can control the robot on-the-fly\n",
    "set_signal(driver_left, l_g_comm, 'cmd_GripperState_L', 5)\n",
    "set_signal(driver_left, l_g_comm, 'cmd_GripperPos_L', 0)\n",
    "print(get_signal(driver_left, l_g_comm, 'cmd_GripperState_L'))\n",
    "print(get_signal(driver_left, l_g_comm, 'cmd_GripperPos_L'))\n",
    "driver_left.rws.call_procedure('handleRunSGRoutine')\n",
    "time.sleep(3.0)\n",
    "driver_left.stop()\n",
    "\n",
    "# Back to home\n",
    "yumi.set_speed(0.15)\n",
    "result_left = driver_left.move_to_async(home_left)\n",
    "result_right = driver_right.move_to_async(home_right)\n",
    "await result_left\n",
    "await result_right\n"
   ]
  },
  {
   "cell_type": "code",
   "execution_count": 3,
   "metadata": {},
   "outputs": [
    {
     "name": "stdout",
     "output_type": "stream",
     "text": [
      "Signal(cmd_GripperState_L, 5)\n",
      "Signal(cmd_GripperPos_L, 0)\n",
      "Signal(cmd_GripperState_L, 4)\n",
      "Signal(cmd_GripperPos_L, 0)\n"
     ]
    }
   ],
   "source": [
    "print(get_signal(driver_left, l_g_comm, 'cmd_GripperState_L'))\n",
    "print(get_signal(driver_left, l_g_comm, 'cmd_GripperPos_L'))\n",
    "set_signal(driver_left, l_g_comm, 'cmd_GripperState_L', 4)\n",
    "set_signal(driver_left, l_g_comm, 'cmd_GripperPos_L', 0)\n",
    "print(get_signal(driver_left, l_g_comm, 'cmd_GripperState_L'))\n",
    "print(get_signal(driver_left, l_g_comm, 'cmd_GripperPos_L'))\n",
    "driver_left.rws.call_procedure('handleRunSGRoutine')"
   ]
  },
  {
   "cell_type": "code",
   "execution_count": 10,
   "metadata": {},
   "outputs": [],
   "source": [
    "\n",
    "driver_left.rws.call_procedure('handleRunSGRoutine')"
   ]
  }
 ],
 "metadata": {
  "kernelspec": {
   "display_name": "lipnew",
   "language": "python",
   "name": "python3"
  },
  "language_info": {
   "codemirror_mode": {
    "name": "ipython",
    "version": 3
   },
   "file_extension": ".py",
   "mimetype": "text/x-python",
   "name": "python",
   "nbconvert_exporter": "python",
   "pygments_lexer": "ipython3",
   "version": "3.8.0"
  }
 },
 "nbformat": 4,
 "nbformat_minor": 2
}
