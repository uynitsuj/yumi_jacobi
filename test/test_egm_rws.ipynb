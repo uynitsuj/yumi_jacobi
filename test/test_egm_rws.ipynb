{
 "cells": [
  {
   "cell_type": "code",
   "execution_count": 1,
   "metadata": {},
   "outputs": [
    {
     "name": "stdout",
     "output_type": "stream",
     "text": [
      "VAR string next_state := \"main\";\n",
      "\n",
      "        VAR egmident egm_id;\n",
      "        VAR egmstate egm_state;\n",
      "        CONST egm_minmax egm_condition := [-0.03, 0.03];\n",
      "        \n",
      "\n",
      "PROC egm1()\n",
      "\n",
      "        EGMActJoint egm_id\n",
      "            \\J1:=egm_condition \\J2:=egm_condition \\J3:=egm_condition\n",
      "            \\J4:=egm_condition \\J5:=egm_condition \\J6:=egm_condition \\J7:=egm_condition\n",
      "            \\MaxSpeedDeviation:=1000.000000;\n",
      "        EGMRunJoint egm_id, EGM_STOP_HOLD, \\NoWaitCond \\J1 \\J2 \\J3 \\J4 \\J5 \\J6 \\J7 \\CondTime:=9e9;\n",
      "        WaitDI JacobiEgmStop, 1;\n",
      "        EGMStop egm_id, EGM_STOP_HOLD;\n",
      "\n",
      "    ERROR\n",
      "        IF ERRNO = ERR_UDPUC_COMM THEN\n",
      "            TPWrite \"[jacobi.driver] EGM communication timeout.\";\n",
      "            TRYNEXT;\n",
      "        ENDIF\n",
      "\tIF next_state = \"egm\" THEN\n",
      "\t\tnext_state := \"egm\";\n",
      "\tENDIF\n",
      "ENDPROC\n",
      "\n",
      "PROC onReset()\n",
      "\tTPWrite \"reset\";\n",
      "\tEGMStop egm_id, EGM_STOP_HOLD;\n",
      "ENDPROC\n",
      "\n",
      "PROC onRestart()\n",
      "\tTPWrite \"restart\";\n",
      "\tEGMStop egm_id, EGM_STOP_HOLD;\n",
      "ENDPROC\n",
      "\n",
      "PROC onStart()\n",
      "\tTPWrite \"start\";\n",
      "ENDPROC\n",
      "\n",
      "PROC onStop()\n",
      "\tTPWrite \"stop\";\n",
      "\tEGMStop egm_id, EGM_STOP_HOLD;\n",
      "ENDPROC\n",
      "\n",
      "\n",
      "PROC main()\n",
      "\n",
      "        EGMReset egm_id;\n",
      "        EGMGetId egm_id;\n",
      "\n",
      "        egm_state := EGMGetState(egm_id);\n",
      "        TPWrite \"EGM state: \"\\Num:=egm_state;\n",
      "\n",
      "        IF egm_state <= EGM_STATE_CONNECTED THEN\n",
      "            EGMSetupUC ROB_R, egm_id, \"default\", \"ROB_R\", \\Joint;\n",
      "        ENDIF\n",
      "        \n",
      "\tWHILE next_state <> \"exit\" DO\n",
      "\t\tTPWrite \"[jacobi.driver] New state=\" + next_state;\n",
      "\t\tCallByVar next_state, 1;\n",
      "\tENDWHILE\n",
      "ENDPROC\n",
      "\n"
     ]
    }
   ],
   "source": [
    "from jacobi import Planner\n",
    "from jacobi.robots import ABBYuMiIRB14000 as Yumi\n",
    "from jacobi.drivers import ABBDriver\n",
    "\n",
    "# from yumi_jacobi.yumi import YuMi\n",
    "\n",
    "# y = YuMi()\n",
    "\n",
    "yumi = Yumi()\n",
    "yumi.set_speed(0.14)\n",
    "\n",
    "planner = Planner(yumi)\n",
    "\n",
    "# From a fresh robot start, need to run twice to upload T_ROB_R before T_ROB_L starts\n",
    "module = ABBDriver.RapidModule(unit='ROB_L')\n",
    "module.upload = False # TURN THIS TO FALSE OTHERWISE PENDANT MODULES GET OVERWRITTEN\n",
    "driver_left = ABBDriver(\n",
    "    planner, yumi.left,\n",
    "    host='192.168.125.1', port=6511,\n",
    "    module=module, version=ABBDriver.RobotWareVersion.RobotWare6,\n",
    ")\n",
    "\n",
    "module = ABBDriver.RapidModule(unit='ROB_R')\n",
    "module.upload = False # TURN THIS TO FALSE OTHERWISE PENDANT MODULES GET OVERWRITTEN\n",
    "driver_right = ABBDriver(\n",
    "    planner, yumi.right,\n",
    "    host='192.168.125.1', port=6512,\n",
    "    module=module, version=ABBDriver.RobotWareVersion.RobotWare6,\n",
    ")\n",
    "\n",
    "print(module.get_rapid_code('main'))"
   ]
  },
  {
   "cell_type": "code",
   "execution_count": 8,
   "metadata": {},
   "outputs": [
    {
     "name": "stdout",
     "output_type": "stream",
     "text": [
      "Signal(cmd_GripperState_L, 0)\n",
      "Signal(cmd_GripperPos_L, 0)\n"
     ]
    }
   ],
   "source": [
    "l_g_comm = ['192.168.125.40', 'Hand_L']\n",
    "r_g_comm = ['192.168.125.30', 'Hand_R']\n",
    "\n",
    "def get_signal(driver, comm, signal):\n",
    "    return driver.rws.get_signal(signal = signal, network = comm[0], device = comm[1])\n",
    "\n",
    "def set_signal(driver, comm, signal, value):\n",
    "    return driver.rws.set_signal(signal = signal, value = str(value), network = comm[0], device = comm[1])\n",
    "\n",
    "print(get_signal(driver_left, l_g_comm, 'cmd_GripperState_L'))\n",
    "print(get_signal(driver_left, l_g_comm, 'cmd_GripperPos_L'))\n",
    "\n",
    "\n",
    "set_signal(driver_left, l_g_comm, 'cmd_GripperState_L', 0)\n",
    "set_signal(driver_left, l_g_comm, 'cmd_GripperPos_L', 0)\n",
    "\n"
   ]
  }
 ],
 "metadata": {
  "kernelspec": {
   "display_name": "lipnew",
   "language": "python",
   "name": "python3"
  },
  "language_info": {
   "codemirror_mode": {
    "name": "ipython",
    "version": 3
   },
   "file_extension": ".py",
   "mimetype": "text/x-python",
   "name": "python",
   "nbconvert_exporter": "python",
   "pygments_lexer": "ipython3",
   "version": "3.8.0"
  }
 },
 "nbformat": 4,
 "nbformat_minor": 2
}
